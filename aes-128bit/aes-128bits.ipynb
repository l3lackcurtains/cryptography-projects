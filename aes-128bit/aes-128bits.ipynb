{
 "cells": [
  {
   "cell_type": "code",
   "execution_count": 194,
   "metadata": {},
   "outputs": [],
   "source": [
    "AES_S_BOX = [\n",
    "    [0x63, 0x7C, 0x77, 0x7B, 0xF2, 0x6B, 0x6F, 0xC5, 0x30, 0x01, 0x67, 0x2B, 0xFE, 0xD7, 0xAB, 0x76],\n",
    "    [0xCA, 0x82, 0xC9, 0x7D, 0xFA, 0x59, 0x47, 0xF0, 0xAD, 0xD4, 0xA2, 0xAF, 0x9C, 0xA4, 0x72, 0xC0],\n",
    "    [0xB7, 0xFD, 0x93, 0x26, 0x36, 0x3F, 0xF7, 0xCC, 0x34, 0xA5, 0xE5, 0xF1, 0x71, 0xD8, 0x31, 0x15],\n",
    "    [0x04, 0xC7, 0x23, 0xC3, 0x18, 0x96, 0x05, 0x9A, 0x07, 0x12, 0x80, 0xE2, 0xEB, 0x27, 0xB2, 0x75],\n",
    "    [0x09, 0x83, 0x2C, 0x1A, 0x1B, 0x6E, 0x5A, 0xA0, 0x52, 0x3B, 0xD6, 0xB3, 0x29, 0xE3, 0x2F, 0x84],\n",
    "    [0x53, 0xD1, 0x00, 0xED, 0x20, 0xFC, 0xB1, 0x5B, 0x6A, 0xCB, 0xBE, 0x39, 0x4A, 0x4C, 0x58, 0xCF],\n",
    "    [0xD0, 0xEF, 0xAA, 0xFB, 0x43, 0x4D, 0x33, 0x85, 0x45, 0xF9, 0x02, 0x7F, 0x50, 0x3C, 0x9F, 0xA8],\n",
    "    [0x51, 0xA3, 0x40, 0x8F, 0x92, 0x9D, 0x38, 0xF5, 0xBC, 0xB6, 0xDA, 0x21, 0x10, 0xFF, 0xF3, 0xD2],\n",
    "    [0xCD, 0x0C, 0x13, 0xEC, 0x5F, 0x97, 0x44, 0x17, 0xC4, 0xA7, 0x7E, 0x3D, 0x64, 0x5D, 0x19, 0x73],\n",
    "    [0x60, 0x81, 0x4F, 0xDC, 0x22, 0x2A, 0x90, 0x88, 0x46, 0xEE, 0xB8, 0x14, 0xDE, 0x5E, 0x0B, 0xDB],\n",
    "    [0xE0, 0x32, 0x3A, 0x0A, 0x49, 0x06, 0x24, 0x5C, 0xC2, 0xD3, 0xAC, 0x62, 0x91, 0x95, 0xE4, 0x79],\n",
    "    [0xE7, 0xC8, 0x37, 0x6D, 0x8D, 0xD5, 0x4E, 0xA9, 0x6C, 0x56, 0xF4, 0xEA, 0x65, 0x7A, 0xAE, 0x08],\n",
    "    [0xBA, 0x78, 0x25, 0x2E, 0x1C, 0xA6, 0xB4, 0xC6, 0xE8, 0xDD, 0x74, 0x1F, 0x4B, 0xBD, 0x8B, 0x8A],\n",
    "    [0x70, 0x3E, 0xB5, 0x66, 0x48, 0x03, 0xF6, 0x0E, 0x61, 0x35, 0x57, 0xB9, 0x86, 0xC1, 0x1D, 0x9E],\n",
    "    [0xE1, 0xF8, 0x98, 0x11, 0x69, 0xD9, 0x8E, 0x94, 0x9B, 0x1E, 0x87, 0xE9, 0xCE, 0x55, 0x28, 0xDF],\n",
    "    [0x8C, 0xA1, 0x89, 0x0D, 0xBF, 0xE6, 0x42, 0x68, 0x41, 0x99, 0x2D, 0x0F, 0xB0, 0x54, 0xBB, 0x16] \n",
    "]\n",
    "\n",
    "AES_INVERSE_S_BOX = [\n",
    "    [0x52, 0x09, 0x6A, 0xD5, 0x30, 0x36, 0xA5, 0x38, 0xBF, 0x40, 0xA3, 0x9E, 0x81, 0xF3, 0xD7, 0xFB],\n",
    "    [0x7C, 0xE3, 0x39, 0x82, 0x9B, 0x2F, 0xFF, 0x87, 0x34, 0x8E, 0x43, 0x44, 0xC4, 0xDE, 0xE9, 0xCB],\n",
    "    [0x54, 0x7B, 0x94, 0x32, 0xA6, 0xC2, 0x23, 0x3D, 0xEE, 0x4C, 0x95, 0x0B, 0x42, 0xFA, 0xC3, 0x4E],\n",
    "    [0x08, 0x2E, 0xA1, 0x66, 0x28, 0xD9, 0x24, 0xB2, 0x76, 0x5B, 0xA2, 0x49, 0x6D, 0x8B, 0xD1, 0x25],\n",
    "    [0x72, 0xF8, 0xF6, 0x64, 0x86, 0x68, 0x98, 0x16, 0xD4, 0xA4, 0x5C, 0xCC, 0x5D, 0x65, 0xB6, 0x92],\n",
    "    [0x6C, 0x70, 0x48, 0x50, 0xFD, 0xED, 0xB9, 0xDA, 0x5E, 0x15, 0x46, 0x57, 0xA7, 0x8D, 0x9D, 0x84],\n",
    "    [0x90, 0xD8, 0xAB, 0x00, 0x8C, 0xBC, 0xD3, 0x0A, 0xF7, 0xE4, 0x58, 0x05, 0xB8, 0xB3, 0x45, 0x06],\n",
    "    [0xD0, 0x2C, 0x1E, 0x8F, 0xCA, 0x3F, 0x0F, 0x02, 0xC1, 0xAF, 0xBD, 0x03, 0x01, 0x13, 0x8A, 0x6B],\n",
    "    [0x3A, 0x91, 0x11, 0x41, 0x4F, 0x67, 0xDC, 0xEA, 0x97, 0xF2, 0xCF, 0xCE, 0xF0, 0xB4, 0xE6, 0x73],\n",
    "    [0x96, 0xAC, 0x74, 0x22, 0xE7, 0xAD, 0x35, 0x85, 0xE2, 0xF9, 0x37, 0xE8, 0x1C, 0x75, 0xDF, 0x6E],\n",
    "    [0x47, 0xF1, 0x1A, 0x71, 0x1D, 0x29, 0xC5, 0x89, 0x6F, 0xB7, 0x62, 0x0E, 0xAA, 0x18, 0xBE, 0x1B],\n",
    "    [0xFC, 0x56, 0x3E, 0x4B, 0xC6, 0xD2, 0x79, 0x20, 0x9A, 0xDB, 0xC0, 0xFE, 0x78, 0xCD, 0x5A, 0xF4],\n",
    "    [0x1F, 0xDD, 0xA8, 0x33, 0x88, 0x07, 0xC7, 0x31, 0xB1, 0x12, 0x10, 0x59, 0x27, 0x80, 0xEC, 0x5F],\n",
    "    [0x60, 0x51, 0x7F, 0xA9, 0x19, 0xB5, 0x4A, 0x0D, 0x2D, 0xE5, 0x7A, 0x9F, 0x93, 0xC9, 0x9C, 0xEF],\n",
    "    [0xA0, 0xE0, 0x3B, 0x4D, 0xAE, 0x2A, 0xF5, 0xB0, 0xC8, 0xEB, 0xBB, 0x3C, 0x83, 0x53, 0x99, 0x61],\n",
    "    [0x17, 0x2B, 0x04, 0x7E, 0xBA, 0x77, 0xD6, 0x26, 0xE1, 0x69, 0x14, 0x63, 0x55, 0x21, 0x0C, 0x7D]\n",
    "]\n",
    "\n",
    "AES_RCON = [\n",
    "    [\"01\", \"02\", \"04\", \"08\", \"10\", \"20\", \"40\", \"80\", \"1b\", \"36\"],\n",
    "    [\"00\", \"00\", \"00\", \"00\", \"00\", \"00\", \"00\", \"00\", \"00\", \"00\"],\n",
    "    [\"00\", \"00\", \"00\", \"00\", \"00\", \"00\", \"00\", \"00\", \"00\", \"00\"],\n",
    "    [\"00\", \"00\", \"00\", \"00\", \"00\", \"00\", \"00\", \"00\", \"00\", \"00\"]\n",
    "]\n",
    "\n",
    "\n",
    "\"\"\"\n",
    "Converts hexa decimal text into 4 x 4 state matrix\n",
    "\"\"\"\n",
    "def GetStateMatrix(PlainText):\n",
    "    StateMatrix = [[\"0\" for x in range(4)] for y in range(4)]\n",
    "    PlainTextList=list(PlainText)\n",
    "    index=0\n",
    "    for i in range(4):\n",
    "        for j in range(4): \n",
    "            StateMatrix[j][i]=PlainTextList[index]+PlainTextList[index+1] \n",
    "            index+=2\n",
    "    return StateMatrix \n",
    "\n",
    "\"\"\"\n",
    "Apply s-box to state matrix\n",
    "\"\"\"\n",
    "def GetSubBytes(StateMatrix):\n",
    "    HexaArray=\"\"\n",
    "    SubBytesMatrix = [[\"0\" for x in range(4)] for y in range(4)]\n",
    "    for i in range(4):\n",
    "        for j in range(4): \n",
    "            HexaArray=list(StateMatrix[i][j])\n",
    "            if len(HexaArray)==4:\n",
    "                SubBytesMatrix[i][j]=hex(AES_S_BOX[int(HexaArray[2],16)][int(HexaArray[3],16)] )\n",
    "            elif len(HexaArray)==3 :\n",
    "                SubBytesMatrix[i][j]=hex(AES_S_BOX[0][int(HexaArray[2],16)] )\n",
    "            else:\n",
    "                SubBytesMatrix[i][j]=hex(AES_S_BOX[int(HexaArray[0],16)][int(HexaArray[1],16)] )\n",
    "    return SubBytesMatrix \n",
    "\n",
    "\"\"\"\n",
    "Apply inverse s-box to state matrix\n",
    "\"\"\"\n",
    "def GetInverseSubBytes(StateMatrix):\n",
    "    HexaArray=\"\"\n",
    "    InverseSubBytesMatrix = [[\"0\" for x in range(4)] for y in range(4)]\n",
    "    for i in range(4):\n",
    "        for j in range(4): \n",
    "            HexaArray=list(StateMatrix[i][j])\n",
    "            if len(HexaArray)==4:\n",
    "                InverseSubBytesMatrix[i][j]=hex(AES_INVERSE_S_BOX[int(HexaArray[2],16)][int(HexaArray[3],16)] )\n",
    "            elif len(HexaArray)==3 :\n",
    "                InverseSubBytesMatrix[i][j]=hex(AES_INVERSE_S_BOX[0][int(HexaArray[2],16)] )\n",
    "            else:\n",
    "                InverseSubBytesMatrix[i][j]=hex(AES_INVERSE_S_BOX[int(HexaArray[0],16)][int(HexaArray[1],16)] )\n",
    "    return InverseSubBytesMatrix \n",
    "\n",
    "\n",
    "\"\"\"\n",
    "Perform the shift row step during encryption\n",
    "\"\"\"\n",
    "def GetShiftRows(SubBytesMatrix):\n",
    "    i=0\n",
    "    index=0\n",
    "    for row in SubBytesMatrix:\n",
    "        row=row[i:] + row[:i]\n",
    "        SubBytesMatrix[index] = row\n",
    "        index+=1\n",
    "        i+=1 \n",
    "    return SubBytesMatrix \n",
    "\n",
    "\n",
    "\"\"\"\n",
    "Perform the inverse shift row step during decryption\n",
    "\"\"\"\n",
    "def GetInverseShiftRows(InverseSubBytesMatrix):\n",
    "    i=0\n",
    "    index=0\n",
    "    for row in InverseSubBytesMatrix:\n",
    "        row=row[-i:] + row[:-i]\n",
    "        InverseSubBytesMatrix[index] = row\n",
    "        index+=1\n",
    "        i+=1 \n",
    "    return InverseSubBytesMatrix\n",
    "\n",
    "\n",
    "\"\"\"\n",
    "Get Galios Number for Mix columns step\n",
    "\"\"\"\n",
    "def GaloisNumber(FirstNum, SecondNum):\n",
    "    i = 0\n",
    "    for counter in range(8):\n",
    "        if SecondNum & 1: i ^= FirstNum\n",
    "        BitSet = FirstNum & 0x80\n",
    "        FirstNum <<= 1\n",
    "        FirstNum &= 0xFF\n",
    "        if BitSet:\n",
    "            FirstNum ^= 0x1b\n",
    "        SecondNum >>= 1\n",
    "    return i\n",
    "\n",
    "\n",
    "\"\"\"\n",
    "Perform the Mix column step during encryption\n",
    "\"\"\"\n",
    "def GetMixColumns(ShiftRowsMatrix):\n",
    "    fixed = [2, 1, 1, 3]\n",
    "    row = [0, 3, 2, 1]\n",
    "    column = 0\n",
    "    OutputArray = []\n",
    "    for _ in range(4):\n",
    "        for _ in range(4):\n",
    "            OutputArray.append('%02x' % (GaloisNumber(int(ShiftRowsMatrix[row[0]][column], 16),\n",
    "                        fixed[0]) ^GaloisNumber(int(ShiftRowsMatrix[row[1]][column], 16),\n",
    "                        fixed[1]) ^ GaloisNumber(int(ShiftRowsMatrix[row[2]][column], 16),\n",
    "                        fixed[2]) ^GaloisNumber(int(ShiftRowsMatrix[row[3]][column], 16),\n",
    "                        fixed[3])))\n",
    "            row = [row[-1]] + row[:-1]\n",
    "        column += 1\n",
    "    ShiftRowsMatrix = [OutputArray[i:i+4] for i in range(0, 16, 4) ]\n",
    "    MixColoumnsMatrix=[[\"0\" for x in range(4)] for y in range(4)] \n",
    "    for i in range(4):\n",
    "        for j in range(4):\n",
    "            MixColoumnsMatrix[i][j] = ShiftRowsMatrix[j][i]\n",
    "    return MixColoumnsMatrix \n",
    "\n",
    "\"\"\"\n",
    "Perform the inversed Mix column step during decryption\n",
    "\"\"\"\n",
    "def GetInverseMixColumns(ShiftRowsMatrix):\n",
    "    fixed = [14, 9, 13, 11]\n",
    "    row = [0, 3, 2, 1]\n",
    "    column = 0\n",
    "    OutputArray = []\n",
    "    for _ in range(4):\n",
    "        for _ in range(4):\n",
    "            OutputArray.append('%02x' % (GaloisNumber(int(ShiftRowsMatrix[row[0]][column], 16),\n",
    "                        fixed[0]) ^GaloisNumber(int(ShiftRowsMatrix[row[1]][column], 16),\n",
    "                        fixed[1]) ^ GaloisNumber(int(ShiftRowsMatrix[row[2]][column], 16),\n",
    "                        fixed[2]) ^GaloisNumber(int(ShiftRowsMatrix[row[3]][column], 16),\n",
    "                        fixed[3])))\n",
    "            row = [row[-1]] + row[:-1]\n",
    "        column += 1\n",
    "    ShiftRowsMatrix = [OutputArray[i:i+4] for i in range(0, 16, 4) ]\n",
    "    InverseMixColoumnsMatrix=[[\"0\" for x in range(4)] for y in range(4)] \n",
    "    for i in range(4):\n",
    "        for j in range(4):\n",
    "            InverseMixColoumnsMatrix[i][j]=ShiftRowsMatrix[j][i]\n",
    "    return InverseMixColoumnsMatrix \n",
    "\n",
    "\"\"\"\n",
    "Generate list of N round keys\n",
    "\"\"\"\n",
    "def KeySchedule(StateMatrix):\n",
    "    Keys=[]\n",
    "    for num in range(10):\n",
    "        if num > 0:\n",
    "            StateMatrix= RoundKey\n",
    "        RoundKey=[[\"0\" for x in range(4)] for y in range(4)] \n",
    "        x=0\n",
    "        index=0\n",
    "        RowMatrix=[[\"0\" for x in range(4)] for y in range(4)] \n",
    "        for i in range(4):\n",
    "            for j in range(4):\n",
    "                RowMatrix[i][j]=StateMatrix[j][i]\n",
    "        state=RowMatrix\n",
    "\n",
    "        Result=[[\"0\" for x in range(4)] for y in range(4)]  \n",
    "        for row in state:\n",
    "            row=row[1:] + row[:1]\n",
    "            state[index] = row\n",
    "            index+=1\n",
    "            x+=1\n",
    "        state=GetSubBytes(state) \n",
    "        \n",
    "        for i in range(4):\n",
    "            Result[0][i]=hex(int(StateMatrix[i][0],16) ^ int(state[3][i],16) ^ int(AES_RCON[i][num],16) )\n",
    "            \n",
    "        for i in range(1,4):\n",
    "            for j in range(4):\n",
    "                Result[i][j] = hex(int(Result[i-1][j],16) ^ int(StateMatrix[j][i],16))\n",
    "           \n",
    "        for i in range(4):\n",
    "            for j in range(4):\n",
    "                RoundKey[i][j]=Result[j][i]\n",
    "        Keys.append(RoundKey)\n",
    "    \n",
    "    return Keys\n",
    "\n",
    "\"\"\"\n",
    "Add N rounds keys\n",
    "\"\"\"\n",
    "def AddRoundKey(StateMatrix,KeyMatrix):\n",
    "    RoundKey=[[\"0\" for x in range(4)] for y in range(4)]\n",
    "    \n",
    "    for i in range(4):\n",
    "        for j in range(4):\n",
    "            RoundKey[j][i]=hex(int(StateMatrix[j][i],16) ^ int(KeyMatrix[j][i],16))\n",
    "    return RoundKey  \n",
    "\n",
    "\"\"\"\n",
    "Get the plain text from state matrix\n",
    "\"\"\"\n",
    "def GetPlainTextMatrix(FinalMatrix):\n",
    "    PlainText=\"\"\n",
    "    for i in range(4):\n",
    "        for j in range(4):\n",
    "            if len(FinalMatrix[j][i])==3:\n",
    "                PlainText+='0' \n",
    "            PlainText+=FinalMatrix[j][i][2:]   \n",
    "    return PlainText"
   ]
  },
  {
   "cell_type": "markdown",
   "metadata": {},
   "source": [
    "## AES Encryption & Decryption in a walkthrough"
   ]
  },
  {
   "cell_type": "code",
   "execution_count": 195,
   "metadata": {},
   "outputs": [
    {
     "data": {
      "text/plain": [
       "127"
      ]
     },
     "execution_count": 195,
     "metadata": {},
     "output_type": "execute_result"
    }
   ],
   "source": [
    "import binascii\n",
    "\n",
    "PlainText = \"54686973206973206a75737420616e20\"\n",
    "Key = \"54686973206973206120736563726574\"\n",
    "\n",
    "bin_string = ''.join(format(ord(i), 'b') for i in str(binascii.unhexlify(PlainText)))\n",
    "\n",
    "len(bin_string)"
   ]
  },
  {
   "cell_type": "code",
   "execution_count": 196,
   "metadata": {},
   "outputs": [
    {
     "data": {
      "text/plain": [
       "[['54', '20', '6a', '20'],\n",
       " ['68', '69', '75', '61'],\n",
       " ['69', '73', '73', '6e'],\n",
       " ['73', '20', '74', '20']]"
      ]
     },
     "execution_count": 196,
     "metadata": {},
     "output_type": "execute_result"
    }
   ],
   "source": [
    "StateMatrix = GetStateMatrix(PlainText)\n",
    "StateMatrix"
   ]
  },
  {
   "cell_type": "code",
   "execution_count": 197,
   "metadata": {},
   "outputs": [
    {
     "data": {
      "text/plain": [
       "[['54', '20', '61', '63'],\n",
       " ['68', '69', '20', '72'],\n",
       " ['69', '73', '73', '65'],\n",
       " ['73', '20', '65', '74']]"
      ]
     },
     "execution_count": 197,
     "metadata": {},
     "output_type": "execute_result"
    }
   ],
   "source": [
    "KeyMatrix = GetStateMatrix(Key)\n",
    "KeyMatrix"
   ]
  },
  {
   "cell_type": "code",
   "execution_count": 198,
   "metadata": {},
   "outputs": [
    {
     "data": {
      "text/plain": [
       "[['0x0', '0x0', '0xb', '0x43'],\n",
       " ['0x0', '0x0', '0x55', '0x13'],\n",
       " ['0x0', '0x0', '0x0', '0xb'],\n",
       " ['0x0', '0x0', '0x11', '0x54']]"
      ]
     },
     "execution_count": 198,
     "metadata": {},
     "output_type": "execute_result"
    }
   ],
   "source": [
    "RoundKeyMatrix= AddRoundKey(StateMatrix,KeyMatrix)\n",
    "RoundKeyMatrix"
   ]
  },
  {
   "cell_type": "code",
   "execution_count": 199,
   "metadata": {},
   "outputs": [
    {
     "data": {
      "text/plain": [
       "[[['0x15', '0x35', '0x54', '0x37'],\n",
       "  ['0x25', '0x4c', '0x6c', '0x1e'],\n",
       "  ['0xfb', '0x88', '0xfb', '0x9e'],\n",
       "  ['0x88', '0xa8', '0xcd', '0xb9']],\n",
       " [['0x65', '0x50', '0x4', '0x33'],\n",
       "  ['0x2e', '0x62', '0xe', '0x10'],\n",
       "  ['0xad', '0x25', '0xde', '0x40'],\n",
       "  ['0x12', '0xba', '0x77', '0xce']],\n",
       " [['0xab', '0xfb', '0xff', '0xcc'],\n",
       "  ['0x27', '0x45', '0x4b', '0x5b'],\n",
       "  ['0x26', '0x3', '0xdd', '0x9d'],\n",
       "  ['0xd1', '0x6b', '0x1c', '0xd2']],\n",
       " [['0x9a', '0x61', '0x9e', '0x52'],\n",
       "  ['0x79', '0x3c', '0x77', '0x2c'],\n",
       "  ['0x93', '0x90', '0x4d', '0xd0'],\n",
       "  ['0x9a', '0xf1', '0xed', '0x3f']],\n",
       " [['0xfb', '0x9a', '0x4', '0x56'],\n",
       "  ['0x9', '0x35', '0x42', '0x6e'],\n",
       "  ['0xe6', '0x76', '0x3b', '0xeb'],\n",
       "  ['0x9a', '0x6b', '0x86', '0xb9']],\n",
       " [['0x44', '0xde', '0xda', '0x8c'],\n",
       "  ['0xe0', '0xd5', '0x97', '0xf9'],\n",
       "  ['0xb0', '0xc6', '0xfd', '0x16'],\n",
       "  ['0x2b', '0x40', '0xc6', '0x7f']],\n",
       " [['0x9d', '0x43', '0x99', '0x15'],\n",
       "  ['0xa7', '0x72', '0xe5', '0x1c'],\n",
       "  ['0x62', '0xa4', '0x59', '0x4f'],\n",
       "  ['0x4f', '0xf', '0xc9', '0xb6']],\n",
       " [['0x81', '0xc2', '0x5b', '0x4e'],\n",
       "  ['0x23', '0x51', '0xb4', '0xa8'],\n",
       "  ['0x2c', '0x88', '0xd1', '0x9e'],\n",
       "  ['0x16', '0x19', '0xd0', '0x66']],\n",
       " [['0x58', '0x9a', '0xc1', '0x8f'],\n",
       "  ['0x28', '0x79', '0xcd', '0x65'],\n",
       "  ['0x1f', '0x97', '0x46', '0xd8'],\n",
       "  ['0x39', '0x20', '0xf0', '0x96']],\n",
       " [['0x23', '0xb9', '0x78', '0xf7'],\n",
       "  ['0x49', '0x30', '0xfd', '0x98'],\n",
       "  ['0x8f', '0x18', '0x5e', '0x86'],\n",
       "  ['0x4a', '0x6a', '0x9a', '0xc']]]"
      ]
     },
     "execution_count": 199,
     "metadata": {},
     "output_type": "execute_result"
    }
   ],
   "source": [
    "KeyList = KeySchedule(KeyMatrix)\n",
    "KeyList"
   ]
  },
  {
   "cell_type": "code",
   "execution_count": 200,
   "metadata": {},
   "outputs": [],
   "source": [
    "# For first 9 rounds\n",
    "for i in range(9):\n",
    "    SubBytesMatrix = GetSubBytes(RoundKeyMatrix)\n",
    "    ShiftRowsMatrix = GetShiftRows(SubBytesMatrix)\n",
    "    MixColoumnsMatrix = GetMixColumns(ShiftRowsMatrix)\n",
    "    RoundKeyMatrix = AddRoundKey(MixColoumnsMatrix,KeyList[i])\n",
    "\n",
    "# for last round\n",
    "SubBytesMatrix = GetSubBytes(RoundKeyMatrix) \n",
    "ShiftRowsMatrix =GetShiftRows(SubBytesMatrix)\n",
    "RoundKeyMatrix = AddRoundKey(ShiftRowsMatrix,KeyList[9])"
   ]
  },
  {
   "cell_type": "code",
   "execution_count": 201,
   "metadata": {},
   "outputs": [
    {
     "data": {
      "text/plain": [
       "'5a59bce6dc32c05d543970eca18ee097'"
      ]
     },
     "execution_count": 201,
     "metadata": {},
     "output_type": "execute_result"
    }
   ],
   "source": [
    "CipherText = GetPlainTextMatrix(RoundKeyMatrix)\n",
    "CipherText"
   ]
  },
  {
   "cell_type": "code",
   "execution_count": 202,
   "metadata": {},
   "outputs": [],
   "source": [
    "StateMatrix=GetStateMatrix(CipherText)"
   ]
  },
  {
   "cell_type": "code",
   "execution_count": 203,
   "metadata": {},
   "outputs": [
    {
     "data": {
      "text/plain": [
       "[['0x79', '0x65', '0x2c', '0x56'],\n",
       " ['0x10', '0x2', '0xc4', '0x16'],\n",
       " ['0x33', '0xd8', '0x2e', '0x66'],\n",
       " ['0xac', '0x37', '0x76', '0x9b']]"
      ]
     },
     "execution_count": 203,
     "metadata": {},
     "output_type": "execute_result"
    }
   ],
   "source": [
    "RoundKeyMatrix = AddRoundKey(StateMatrix,KeyList[-1])\n",
    "RoundKeyMatrix"
   ]
  },
  {
   "cell_type": "code",
   "execution_count": 204,
   "metadata": {},
   "outputs": [],
   "source": [
    "index=8\n",
    "for i in range(9):\n",
    "    if i == 0:\n",
    "        InverseShiftRowsMatrix = GetInverseShiftRows(RoundKeyMatrix)\n",
    "    else:\n",
    "        InverseShiftRowsMatrix = GetInverseShiftRows(InverseKeyMixColumnsMatrix)\n",
    "\n",
    "    InverseSubBytesMatrix = GetInverseSubBytes(InverseShiftRowsMatrix)\n",
    "    RoundKeyMatrix = AddRoundKey(InverseSubBytesMatrix,KeyList[index])\n",
    "    InverseKeyMixColumnsMatrix = GetInverseMixColumns(RoundKeyMatrix)\n",
    "    index -= 1\n",
    "\n",
    "InverseShiftRowsMatrix = GetInverseShiftRows(InverseKeyMixColumnsMatrix)\n",
    "InverseSubBytesMatrix = GetInverseSubBytes(InverseShiftRowsMatrix) \n",
    "\n",
    "RoundKeyMatrix = AddRoundKey(InverseSubBytesMatrix,KeyMatrix)"
   ]
  },
  {
   "cell_type": "code",
   "execution_count": 205,
   "metadata": {},
   "outputs": [
    {
     "data": {
      "text/plain": [
       "'54686973206973206a75737420616e20'"
      ]
     },
     "execution_count": 205,
     "metadata": {},
     "output_type": "execute_result"
    }
   ],
   "source": [
    "PlainText2 = GetPlainTextMatrix(RoundKeyMatrix)\n",
    "PlainText2"
   ]
  },
  {
   "cell_type": "code",
   "execution_count": 206,
   "metadata": {},
   "outputs": [
    {
     "data": {
      "text/plain": [
       "True"
      ]
     },
     "execution_count": 206,
     "metadata": {},
     "output_type": "execute_result"
    }
   ],
   "source": [
    "PlainText == PlainText2"
   ]
  },
  {
   "cell_type": "markdown",
   "metadata": {},
   "source": [
    "## AES Encryption & Decryption in a block"
   ]
  },
  {
   "cell_type": "code",
   "execution_count": 207,
   "metadata": {},
   "outputs": [],
   "source": [
    "\"\"\"\n",
    "Encrypt block of plain text\n",
    "\"\"\"\n",
    "def Encrypt(Key,PlainText):\n",
    "\n",
    "    StateMatrix=GetStateMatrix(PlainText)\n",
    "       \n",
    "    KeyMatrix=GetStateMatrix(Key)\n",
    "    \n",
    "    RoundKeyMatrix= AddRoundKey(StateMatrix,KeyMatrix)\n",
    "    \n",
    "    KeyList = KeySchedule(KeyMatrix)\n",
    "    \n",
    "    # For first 9 rounds\n",
    "    for i in range(9):\n",
    "        SubBytesMatrix= GetSubBytes(RoundKeyMatrix)\n",
    "        ShiftRowsMatrix= GetShiftRows(SubBytesMatrix)\n",
    "        MixColoumnsMatrix=GetMixColumns(ShiftRowsMatrix)\n",
    "        RoundKeyMatrix=AddRoundKey(MixColoumnsMatrix,KeyList[i])\n",
    "        \n",
    "    # for last round\n",
    "    SubBytesMatrix= GetSubBytes(RoundKeyMatrix) \n",
    "    ShiftRowsMatrix=GetShiftRows(SubBytesMatrix)\n",
    "    RoundKeyMatrix=AddRoundKey(ShiftRowsMatrix,KeyList[9])\n",
    "    CipherText = GetPlainTextMatrix(RoundKeyMatrix)\n",
    "    \n",
    "    return CipherText \n",
    "\n",
    "\"\"\"\n",
    "Decrypt block of cipher text\n",
    "\"\"\"\n",
    "def Decrypt(Key,CipherText):\n",
    "    StateMatrix=GetStateMatrix(CipherText)\n",
    "    KeyMatrix=GetStateMatrix(Key)\n",
    "    KeyList=KeySchedule(KeyMatrix)\n",
    "    RoundKeyMatrix = AddRoundKey(StateMatrix,KeyList[-1])\n",
    "    index=8\n",
    "    for i in range(9):\n",
    "        if i == 0:\n",
    "            InverseShiftRowsMatrix=GetInverseShiftRows(RoundKeyMatrix)\n",
    "        else:\n",
    "            InverseShiftRowsMatrix=GetInverseShiftRows(InverseKeyMixColumnsMatrix)\n",
    "\n",
    "        InverseSubBytesMatrix=GetInverseSubBytes(InverseShiftRowsMatrix)\n",
    "        RoundKeyMatrix=AddRoundKey(InverseSubBytesMatrix,KeyList[index])\n",
    "        InverseKeyMixColumnsMatrix=GetInverseMixColumns(RoundKeyMatrix)\n",
    "        index-=1\n",
    "    \n",
    "    InverseShiftRowsMatrix=GetInverseShiftRows(InverseKeyMixColumnsMatrix)\n",
    "    InverseSubBytesMatrix= GetInverseSubBytes(InverseShiftRowsMatrix) \n",
    "    \n",
    "    RoundKeyMatrix=AddRoundKey(InverseSubBytesMatrix,KeyMatrix)\n",
    "    PlainText=GetPlainTextMatrix(RoundKeyMatrix)\n",
    "    \n",
    "    return PlainText\n",
    "\n",
    "\n",
    "\n",
    "\"\"\"\n",
    "Encrypt plain text and return cipher text\n",
    "\"\"\"\n",
    "def EncryptText(key, Text):\n",
    "    \n",
    "    spaces = 0\n",
    "    en_key = key.encode('utf-8').hex()\n",
    "    \n",
    "    Text = Text.encode('utf-8').hex()\n",
    "    \n",
    "    cipher = \"\"   \n",
    "    if len(Text) % 32 != 0:\n",
    "        spaces = len(Text) % 32\n",
    "    \n",
    "    for i in range(spaces, 32):\n",
    "        Text += '0'\n",
    "    \n",
    "    temp = ''\n",
    "    for x in Text:\n",
    "        temp = temp + x\n",
    "        if len(temp) == 32:\n",
    "            cipher += Encrypt(en_key,temp)\n",
    "            temp = \"\"\n",
    "   \n",
    "    return cipher\n",
    "\n",
    "\"\"\"\n",
    "Decrypt cipher text and return plain text\n",
    "\"\"\"\n",
    "def DecryptText(key, Text):\n",
    "    \n",
    "    spaces = 0\n",
    "    en_key = key.encode('utf-8').hex()\n",
    "    \n",
    "    plainText = \"\"\n",
    "    temp = \"\"\n",
    "    for x in Text:\n",
    "        temp += x\n",
    "        if len(temp) == 32:\n",
    "            plainhex = Decrypt(en_key,temp)\n",
    "            plainText += bytes.fromhex(plainhex).decode()\n",
    "            temp = \"\"\n",
    "   \n",
    "    return plainText"
   ]
  },
  {
   "cell_type": "code",
   "execution_count": 208,
   "metadata": {},
   "outputs": [
    {
     "name": "stdout",
     "output_type": "stream",
     "text": [
      "Plain Text: This is a random long plain text.\n",
      "Key: Super secret key\n",
      "Cipher Text: 669b22974f47016cc3fc774c693d726507f1f34591fdbf9d1d34626c517c97815f85faf41f5091c5688b72193bf82d33\n",
      "Plain Text: This is a random long plain text.\u0000\u0000\u0000\u0000\u0000\u0000\u0000\u0000\u0000\u0000\u0000\u0000\u0000\u0000\u0000\n"
     ]
    }
   ],
   "source": [
    "\n",
    "PlainText=\"This is a random long plain text.\"\n",
    "Key=\"Super secret key\"\n",
    "\n",
    "\n",
    "ct = EncryptText(Key, PlainText)\n",
    "\n",
    "dt = DecryptText(Key, ct)\n",
    "\n",
    "print(\"Plain Text:\", PlainText)\n",
    "print(\"Key:\", Key)\n",
    "print(\"Cipher Text:\", ct)\n",
    "print(\"Plain Text:\", dt)"
   ]
  }
 ],
 "metadata": {
  "kernelspec": {
   "display_name": "Python 3",
   "language": "python",
   "name": "python3"
  },
  "language_info": {
   "codemirror_mode": {
    "name": "ipython",
    "version": 3
   },
   "file_extension": ".py",
   "mimetype": "text/x-python",
   "name": "python",
   "nbconvert_exporter": "python",
   "pygments_lexer": "ipython3",
   "version": "3.7.4"
  }
 },
 "nbformat": 4,
 "nbformat_minor": 2
}
