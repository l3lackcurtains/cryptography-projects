{
 "cells": [
  {
   "cell_type": "code",
   "execution_count": 4,
   "metadata": {},
   "outputs": [
    {
     "output_type": "execute_result",
     "data": {
      "text/plain": "&#39;1010110011110110010001101100011110001110010111100000101110100110000110011110000101100001111000011011100100111010011111111100010110101110100011101100101110000100010000101010001011010110010010110110110010100100111000001010101000101011001101011111110110011110&#39;"
     },
     "metadata": {},
     "execution_count": 4
    }
   ],
   "source": [
    "AliceDataStream = \"0110011100110001100011011001001111101000010011111001001101001000000000010000101110100111011010010000010101100101100111010011100010000010110011100010000010110110100011001000001100010111110011001101000000001001100011110000101110001000010010100100010001011111\"\n",
    "\n",
    "AliceRandomNumber = \"1010110011110110010001101100011110001110010111100000101110100110000110011110000101100001111000011011100100111010011111111100010110101110100011101100101110000100010000101010001011010110010010110110110010100100111000001010101000101011001101011111110110011110\"\n",
    "\n",
    "BobRandomNumber = \"1010000000000011011110000101001110001110000000101000011011001111101000110010100111010101111110001100110100011011111100101111101000001010111100101010000011001001101000111001011111111110100001000010010010000001110000110010001010010000110111101010011110010101\"\n",
    "\n",
    "KeyToSend = \"0011010000111001111011010111010010010001101011011011110100110001\"\n",
    "\n",
    "polarizerMatrix = [[0, 1], [0, 1]]\n",
    "\n",
    "transmittedData = \"\"\n",
    "for i, x in enumerate(AliceDataStream):\n",
    "    res = polarizerMatrix[int(x)][int(AliceRandomNumber[i])]\n",
    "    transmittedData += str(res)\n",
    "transmittedData"
   ]
  },
  {
   "cell_type": "code",
   "execution_count": 5,
   "metadata": {},
   "outputs": [
    {
     "output_type": "execute_result",
     "data": {
      "text/plain": "&#39;0110??11????0?0?10?????1?00?0?11111010000?0???11?001??1?0??0?00??0???0?1??00?011?0??0?11011??00?0???0?0101?0010??001??0?00???????0?00?101?????100??0?0??1?11??1????0110?10??0?1?00?1?111??00????1?01?00000?01?0?10?011???000?011?0???0?????0?0??0?0??1?00101?1??&#39;"
     },
     "metadata": {},
     "execution_count": 5
    }
   ],
   "source": [
    "checkReceived = \"\"\n",
    "for i, x in enumerate(BobRandomNumber):\n",
    "    if x == transmittedData[i]:\n",
    "        checkReceived += AliceDataStream[i]\n",
    "    else:\n",
    "        checkReceived += \"?\"\n",
    "checkReceived"
   ]
  },
  {
   "cell_type": "code",
   "execution_count": 7,
   "metadata": {
    "tags": []
   },
   "outputs": [
    {
     "output_type": "stream",
     "name": "stdout",
     "text": "[1, 4, 2, 3, 13, 7, 15, 18, 26, 27, 8, 17, 24, 29, 36, 31, 32, 33, 34, 38, 35, 37, 39, 47, 40, 48, 52, 55, 41, 72, 43, 50, 79, 51, 57, 80, 60, 62, 63, 87, 88, 66, 90, 70, 91, 104, 75, 106, 110, 76, 116, 135, 137, 143, 78, 153, 82, 85, 155, 156, 89, 94, 95, 159]\n"
    }
   ],
   "source": [
    "keyPositions = []\n",
    "\n",
    "for y in range(0, len(KeyToSend)):\n",
    "    for x in range(0, len(checkReceived)):\n",
    "        if checkReceived[x] == KeyToSend[y] and x+1 not in keyPositions:\n",
    "            keyPositions.append(x+1)\n",
    "            break\n",
    "print(keyPositions)"
   ]
  },
  {
   "cell_type": "code",
   "execution_count": 8,
   "metadata": {
    "tags": []
   },
   "outputs": [
    {
     "output_type": "stream",
     "name": "stdout",
     "text": "[251, 249, 254, 252, 248, 250, 243, 241, 238, 236, 246, 224, 223, 230, 226, 214, 213, 209, 205, 222, 196, 193, 220, 184, 219, 183, 182, 180, 218, 175, 212, 210, 169, 207, 204, 166, 202, 201, 200, 165, 159, 199, 156, 198, 155, 153, 195, 143, 137, 188, 135, 116, 110, 106, 187, 104, 178, 177, 91, 90, 173, 170, 167, 88]\n"
    }
   ],
   "source": [
    "keyPositions2 = []\n",
    "\n",
    "for y in range(0, len(KeyToSend)):\n",
    "    for x in range(len(checkReceived) -1, 0, -1):\n",
    "        if checkReceived[x] == KeyToSend[y] and x+1 not in keyPositions2:\n",
    "            keyPositions2.append(x+1)\n",
    "            break\n",
    "print(keyPositions2)"
   ]
  },
  {
   "cell_type": "code",
   "execution_count": null,
   "metadata": {},
   "outputs": [],
   "source": []
  }
 ],
 "metadata": {
  "kernelspec": {
   "display_name": "Python 3",
   "language": "python",
   "name": "python3"
  },
  "language_info": {
   "codemirror_mode": {
    "name": "ipython",
    "version": 3
   },
   "file_extension": ".py",
   "mimetype": "text/x-python",
   "name": "python",
   "nbconvert_exporter": "python",
   "pygments_lexer": "ipython3",
   "version": "3.7.4-final"
  }
 },
 "nbformat": 4,
 "nbformat_minor": 2
}